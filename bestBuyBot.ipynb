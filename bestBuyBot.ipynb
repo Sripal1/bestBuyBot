{
 "cells": [
  {
   "cell_type": "code",
   "execution_count": 588,
   "id": "9a38c3e7-6e87-45d5-beec-63c435109404",
   "metadata": {},
   "outputs": [],
   "source": [
    "from selenium import webdriver as wd"
   ]
  },
  {
   "cell_type": "code",
   "execution_count": 589,
   "id": "c9685afe-705a-4b49-8edb-b59e72982ff2",
   "metadata": {},
   "outputs": [],
   "source": [
    "import chromedriver_binary"
   ]
  },
  {
   "cell_type": "code",
   "execution_count": 590,
   "id": "2ff9947b-7ffd-4049-b8e1-3b559eb1770b",
   "metadata": {},
   "outputs": [],
   "source": [
    "import time"
   ]
  },
  {
   "cell_type": "code",
   "execution_count": 591,
   "id": "99718c08-2bc7-4042-a038-9398d70e5589",
   "metadata": {},
   "outputs": [],
   "source": [
    "import pywhatkit as kit"
   ]
  },
  {
   "cell_type": "code",
   "execution_count": 592,
   "id": "a11097ae-f695-45f1-8568-4bcba8366a92",
   "metadata": {},
   "outputs": [],
   "source": [
    "import pandas as pd"
   ]
  },
  {
   "cell_type": "code",
   "execution_count": 593,
   "id": "cfa01f6c-775d-41e7-9cd4-0dd39811246f",
   "metadata": {},
   "outputs": [],
   "source": [
    "from enum import Enum"
   ]
  },
  {
   "cell_type": "code",
   "execution_count": 594,
   "id": "d6111445-d13a-44bd-a8f9-8bddf74f25ec",
   "metadata": {},
   "outputs": [],
   "source": [
    "Enum.myPhoneNumber = \"+14708153192\""
   ]
  },
  {
   "cell_type": "code",
   "execution_count": 595,
   "id": "f7e24df3-a81d-4a32-a493-2f26983bef35",
   "metadata": {},
   "outputs": [],
   "source": [
    "wd = wd.Chrome()"
   ]
  },
  {
   "cell_type": "code",
   "execution_count": 596,
   "id": "4d9fbc87-57d0-4069-8e51-e16d6baf9cff",
   "metadata": {},
   "outputs": [],
   "source": [
    "wd.get(\"https://bestbuy.com\")"
   ]
  },
  {
   "cell_type": "code",
   "execution_count": 597,
   "id": "c15dc1c2-9287-4bf9-80e6-ac4ac8aa9d2c",
   "metadata": {},
   "outputs": [],
   "source": [
    "#Searching for item\n",
    "def searchForiPad():\n",
    "    searchBar = wd.find_element_by_xpath(\"/html/body/div[3]/div/div/div[1]/header/div[1]/div/div[1]/div/form/input[1]\")\n",
    "    searchBar.click()\n",
    "    searchBar.send_keys(\"iPad\")\n",
    "    searchBar.submit()\n",
    "\n",
    "    time.sleep(2)\n",
    "\n",
    "    #Clicking iPad 9th generation model\n",
    "    ipad9thGenLink = wd.find_element_by_xpath(\"/html/body/div[5]/main/div[12]/div/div/div/div/div/div/div[2]/div[2]/div[1]/div/div/div/div/div/div/div/div/div/div/div/div[2]/div/div[4]/div/a\")\n",
    "    ipad9thGenLink.click()\n",
    "\n",
    "    #Removing search results that are out of stock\n",
    "    checkBoxOutOfStock = wd.find_element_by_xpath(\"/html/body/div[5]/main/div[10]/div/div/div/div/div/div/div[2]/div[1]/div[1]/div/div/div/div[3]/div[1]/section/fieldset/ul/li/input\")\n",
    "    checkBoxOutOfStock.click()\n",
    "\n",
    "    time.sleep(2)\n",
    "\n",
    "    #Checking only new items to be shown\n",
    "    # newCheckBox = wd.find_element_by_xpath(\"/html/body/div[5]/main/div[12]/div/div/div/div/div/div/div[2]/div[1]/div[1]/div[2]/div/div/div[3]/div[2]/section[1]/fieldset/ul/li[1]/input\")\n",
    "    # newCheckBox.click()\n",
    "\n",
    "    # time.sleep(2)\n",
    "\n",
    "    #Checking only Airpods Max family to be shown\n",
    "    # modelFamily = wd.find_element_by_xpath(\"/html/body/div[5]/main/div[12]/div/div/div/div/div/div/div[2]/div[1]/div[1]/div[2]/div/div/div[3]/div[2]/section[2]/fieldset/ul/li/input\")\n",
    "    # modelFamily.click()\n",
    "\n",
    "    # time.sleep(2)"
   ]
  },
  {
   "cell_type": "code",
   "execution_count": 598,
   "id": "6c28ee00-789a-4be8-b746-f6d49816ab6d",
   "metadata": {},
   "outputs": [],
   "source": [
    "searchForiPad()"
   ]
  },
  {
   "cell_type": "code",
   "execution_count": 599,
   "id": "ec9431dd-f513-4770-8e9d-58477c80c1df",
   "metadata": {},
   "outputs": [],
   "source": [
    "from bs4 import BeautifulSoup"
   ]
  },
  {
   "cell_type": "code",
   "execution_count": 600,
   "id": "c2122f33-765d-4c43-8d1e-66d569f01e18",
   "metadata": {},
   "outputs": [],
   "source": [
    "soup = BeautifulSoup(wd.page_source)"
   ]
  },
  {
   "cell_type": "code",
   "execution_count": 601,
   "id": "7246083b-d1ad-475e-a2c5-b3399df8dfa9",
   "metadata": {},
   "outputs": [
    {
     "name": "stdout",
     "output_type": "stream",
     "text": [
      "10.2 Inch iPad with Wi Fi 64GB Space Gray \n",
      "329.99\n",
      "https://www.bestbuy.com//site/apple-10-2-inch-ipad-with-wi-fi-64gb-space-gray/4901809.p?skuId=4901809\n",
      "\n",
      "\n",
      "10.2 Inch iPad with Wi Fi 64GB Silver \n",
      "329.99\n",
      "https://www.bestbuy.com//site/apple-10-2-inch-ipad-with-wi-fi-64gb-silver/4901811.p?skuId=4901811\n",
      "\n",
      "\n",
      "10.2 Inch iPad with Wi Fi 256GB Space Gray \n",
      "479.99\n",
      "https://www.bestbuy.com//site/apple-10-2-inch-ipad-with-wi-fi-256gb-space-gray/4901816.p?skuId=4901816\n",
      "\n",
      "\n",
      "10.2 Inch iPad with Wi Fi 256GB Silver \n",
      "479.99\n",
      "https://www.bestbuy.com//site/apple-10-2-inch-ipad-with-wi-fi-256gb-silver/4901868.p?skuId=4901868\n",
      "\n",
      "\n",
      "10.2 Inch iPad with Wi Fi + Cellular 64GB Space Gray (Unlocked) \n",
      "459.99\n",
      "https://www.bestbuy.com//site/apple-10-2-inch-ipad-with-wi-fi-cellular-64gb-space-gray-unlocked/6340478.p?skuId=6340478\n",
      "\n",
      "\n",
      "10.2 Inch iPad with Wi Fi + Cellular 256GB Space Gray (Unlocked) \n",
      "609.99\n",
      "https://www.bestbuy.com//site/apple-10-2-inch-ipad-with-wi-fi-cellular-256gb-space-gray-unlocked/6340480.p?skuId=6340480\n",
      "\n",
      "\n",
      "10.2 Inch iPad with Wi Fi + Cellular 256GB Silver (Unlocked) \n",
      "609.99\n",
      "https://www.bestbuy.com//site/apple-10-2-inch-ipad-with-wi-fi-cellular-256gb-silver-unlocked/6340481.p?skuId=6340481\n",
      "\n",
      "\n"
     ]
    }
   ],
   "source": [
    "results = soup.findAll(class_ = \"sku-item\")\n",
    "# print(results)\n",
    "for result in results:\n",
    "    title = result.find(\"h4\",{\"class\":\"sku-title\"})\n",
    "    titleFormatted = title.text.split(\"-\")[1:]\n",
    "    finalTitle = \"\"\n",
    "    for name in titleFormatted:\n",
    "        finalTitle += name.strip() +\" \"\n",
    "    \n",
    "    price = result.find(\"div\",{\"class\":\"priceView-hero-price priceView-customer-price\"})\n",
    "    finalPrice = float(price.text.split(\"Y\")[0][1:])\n",
    "    \n",
    "    url = result.find(\"a\").get(\"href\")\n",
    "    url = \"https://www.bestbuy.com/\" + url\n",
    "    \n",
    "    print(finalTitle)\n",
    "    print(finalPrice)\n",
    "    print(url)\n",
    "    print(\"\\n\")"
   ]
  },
  {
   "cell_type": "code",
   "execution_count": 602,
   "id": "6bf817ce-8e87-44c1-a12f-4c1b8a9a597a",
   "metadata": {},
   "outputs": [
    {
     "data": {
      "text/html": [
       "<div>\n",
       "<style scoped>\n",
       "    .dataframe tbody tr th:only-of-type {\n",
       "        vertical-align: middle;\n",
       "    }\n",
       "\n",
       "    .dataframe tbody tr th {\n",
       "        vertical-align: top;\n",
       "    }\n",
       "\n",
       "    .dataframe thead th {\n",
       "        text-align: right;\n",
       "    }\n",
       "</style>\n",
       "<table border=\"1\" class=\"dataframe\">\n",
       "  <thead>\n",
       "    <tr style=\"text-align: right;\">\n",
       "      <th></th>\n",
       "      <th>Title</th>\n",
       "      <th>Price</th>\n",
       "      <th>URL</th>\n",
       "    </tr>\n",
       "  </thead>\n",
       "  <tbody>\n",
       "    <tr>\n",
       "      <th>0</th>\n",
       "      <td>10.2 Inch iPad with Wi Fi 64GB Space Gray</td>\n",
       "      <td>329.99</td>\n",
       "      <td>https://www.bestbuy.com//site/apple-10-2-inch-...</td>\n",
       "    </tr>\n",
       "    <tr>\n",
       "      <th>1</th>\n",
       "      <td>10.2 Inch iPad with Wi Fi 64GB Silver</td>\n",
       "      <td>329.99</td>\n",
       "      <td>https://www.bestbuy.com//site/apple-10-2-inch-...</td>\n",
       "    </tr>\n",
       "    <tr>\n",
       "      <th>2</th>\n",
       "      <td>10.2 Inch iPad with Wi Fi 256GB Space Gray</td>\n",
       "      <td>479.99</td>\n",
       "      <td>https://www.bestbuy.com//site/apple-10-2-inch-...</td>\n",
       "    </tr>\n",
       "    <tr>\n",
       "      <th>3</th>\n",
       "      <td>10.2 Inch iPad with Wi Fi 256GB Silver</td>\n",
       "      <td>479.99</td>\n",
       "      <td>https://www.bestbuy.com//site/apple-10-2-inch-...</td>\n",
       "    </tr>\n",
       "    <tr>\n",
       "      <th>4</th>\n",
       "      <td>10.2 Inch iPad with Wi Fi + Cellular 64GB Spac...</td>\n",
       "      <td>459.99</td>\n",
       "      <td>https://www.bestbuy.com//site/apple-10-2-inch-...</td>\n",
       "    </tr>\n",
       "    <tr>\n",
       "      <th>5</th>\n",
       "      <td>10.2 Inch iPad with Wi Fi + Cellular 256GB Spa...</td>\n",
       "      <td>609.99</td>\n",
       "      <td>https://www.bestbuy.com//site/apple-10-2-inch-...</td>\n",
       "    </tr>\n",
       "    <tr>\n",
       "      <th>6</th>\n",
       "      <td>10.2 Inch iPad with Wi Fi + Cellular 256GB Sil...</td>\n",
       "      <td>609.99</td>\n",
       "      <td>https://www.bestbuy.com//site/apple-10-2-inch-...</td>\n",
       "    </tr>\n",
       "  </tbody>\n",
       "</table>\n",
       "</div>"
      ],
      "text/plain": [
       "                                               Title   Price  \\\n",
       "0         10.2 Inch iPad with Wi Fi 64GB Space Gray   329.99   \n",
       "1             10.2 Inch iPad with Wi Fi 64GB Silver   329.99   \n",
       "2        10.2 Inch iPad with Wi Fi 256GB Space Gray   479.99   \n",
       "3            10.2 Inch iPad with Wi Fi 256GB Silver   479.99   \n",
       "4  10.2 Inch iPad with Wi Fi + Cellular 64GB Spac...  459.99   \n",
       "5  10.2 Inch iPad with Wi Fi + Cellular 256GB Spa...  609.99   \n",
       "6  10.2 Inch iPad with Wi Fi + Cellular 256GB Sil...  609.99   \n",
       "\n",
       "                                                 URL  \n",
       "0  https://www.bestbuy.com//site/apple-10-2-inch-...  \n",
       "1  https://www.bestbuy.com//site/apple-10-2-inch-...  \n",
       "2  https://www.bestbuy.com//site/apple-10-2-inch-...  \n",
       "3  https://www.bestbuy.com//site/apple-10-2-inch-...  \n",
       "4  https://www.bestbuy.com//site/apple-10-2-inch-...  \n",
       "5  https://www.bestbuy.com//site/apple-10-2-inch-...  \n",
       "6  https://www.bestbuy.com//site/apple-10-2-inch-...  "
      ]
     },
     "execution_count": 602,
     "metadata": {},
     "output_type": "execute_result"
    }
   ],
   "source": [
    "def getPandasDfForSearchResultsPage():\n",
    "    results = soup.findAll(class_ = \"sku-item\")\n",
    "    rows = []\n",
    "    for result in results:\n",
    "        title = result.find(\"h4\",{\"class\":\"sku-title\"})\n",
    "        titleFormatted = title.text.split(\"-\")[1:]\n",
    "        finalTitle = \"\"\n",
    "        for name in titleFormatted:\n",
    "            finalTitle += name.strip() +\" \"\n",
    "\n",
    "        price = result.find(\"div\",{\"class\":\"priceView-hero-price priceView-customer-price\"})\n",
    "        finalPrice = float(price.text.split(\"Y\")[0][1:])\n",
    "\n",
    "        url = result.find(\"a\").get(\"href\")\n",
    "        url = \"https://www.bestbuy.com/\" + url\n",
    "\n",
    "        row =[finalTitle,finalPrice,url]\n",
    "        rows.append(row)\n",
    "    df = pd.DataFrame.from_records(rows,columns=[\"Title\",\"Price\",\"URL\"])\n",
    "    return df\n",
    "df"
   ]
  },
  {
   "cell_type": "code",
   "execution_count": 603,
   "id": "0ad3267b-46bf-42dc-b5bc-0d73701c6fe5",
   "metadata": {},
   "outputs": [
    {
     "data": {
      "text/html": [
       "<div>\n",
       "<style scoped>\n",
       "    .dataframe tbody tr th:only-of-type {\n",
       "        vertical-align: middle;\n",
       "    }\n",
       "\n",
       "    .dataframe tbody tr th {\n",
       "        vertical-align: top;\n",
       "    }\n",
       "\n",
       "    .dataframe thead th {\n",
       "        text-align: right;\n",
       "    }\n",
       "</style>\n",
       "<table border=\"1\" class=\"dataframe\">\n",
       "  <thead>\n",
       "    <tr style=\"text-align: right;\">\n",
       "      <th></th>\n",
       "      <th>Title</th>\n",
       "      <th>Price</th>\n",
       "      <th>URL</th>\n",
       "    </tr>\n",
       "  </thead>\n",
       "  <tbody>\n",
       "    <tr>\n",
       "      <th>0</th>\n",
       "      <td>10.2 Inch iPad with Wi Fi 64GB Space Gray</td>\n",
       "      <td>329.99</td>\n",
       "      <td>https://www.bestbuy.com//site/apple-10-2-inch-...</td>\n",
       "    </tr>\n",
       "    <tr>\n",
       "      <th>1</th>\n",
       "      <td>10.2 Inch iPad with Wi Fi 64GB Silver</td>\n",
       "      <td>329.99</td>\n",
       "      <td>https://www.bestbuy.com//site/apple-10-2-inch-...</td>\n",
       "    </tr>\n",
       "    <tr>\n",
       "      <th>2</th>\n",
       "      <td>10.2 Inch iPad with Wi Fi 256GB Space Gray</td>\n",
       "      <td>479.99</td>\n",
       "      <td>https://www.bestbuy.com//site/apple-10-2-inch-...</td>\n",
       "    </tr>\n",
       "    <tr>\n",
       "      <th>3</th>\n",
       "      <td>10.2 Inch iPad with Wi Fi 256GB Silver</td>\n",
       "      <td>479.99</td>\n",
       "      <td>https://www.bestbuy.com//site/apple-10-2-inch-...</td>\n",
       "    </tr>\n",
       "    <tr>\n",
       "      <th>4</th>\n",
       "      <td>10.2 Inch iPad with Wi Fi + Cellular 64GB Spac...</td>\n",
       "      <td>459.99</td>\n",
       "      <td>https://www.bestbuy.com//site/apple-10-2-inch-...</td>\n",
       "    </tr>\n",
       "    <tr>\n",
       "      <th>5</th>\n",
       "      <td>10.2 Inch iPad with Wi Fi + Cellular 256GB Spa...</td>\n",
       "      <td>609.99</td>\n",
       "      <td>https://www.bestbuy.com//site/apple-10-2-inch-...</td>\n",
       "    </tr>\n",
       "    <tr>\n",
       "      <th>6</th>\n",
       "      <td>10.2 Inch iPad with Wi Fi + Cellular 256GB Sil...</td>\n",
       "      <td>609.99</td>\n",
       "      <td>https://www.bestbuy.com//site/apple-10-2-inch-...</td>\n",
       "    </tr>\n",
       "  </tbody>\n",
       "</table>\n",
       "</div>"
      ],
      "text/plain": [
       "                                               Title   Price  \\\n",
       "0         10.2 Inch iPad with Wi Fi 64GB Space Gray   329.99   \n",
       "1             10.2 Inch iPad with Wi Fi 64GB Silver   329.99   \n",
       "2        10.2 Inch iPad with Wi Fi 256GB Space Gray   479.99   \n",
       "3            10.2 Inch iPad with Wi Fi 256GB Silver   479.99   \n",
       "4  10.2 Inch iPad with Wi Fi + Cellular 64GB Spac...  459.99   \n",
       "5  10.2 Inch iPad with Wi Fi + Cellular 256GB Spa...  609.99   \n",
       "6  10.2 Inch iPad with Wi Fi + Cellular 256GB Sil...  609.99   \n",
       "\n",
       "                                                 URL  \n",
       "0  https://www.bestbuy.com//site/apple-10-2-inch-...  \n",
       "1  https://www.bestbuy.com//site/apple-10-2-inch-...  \n",
       "2  https://www.bestbuy.com//site/apple-10-2-inch-...  \n",
       "3  https://www.bestbuy.com//site/apple-10-2-inch-...  \n",
       "4  https://www.bestbuy.com//site/apple-10-2-inch-...  \n",
       "5  https://www.bestbuy.com//site/apple-10-2-inch-...  \n",
       "6  https://www.bestbuy.com//site/apple-10-2-inch-...  "
      ]
     },
     "execution_count": 603,
     "metadata": {},
     "output_type": "execute_result"
    }
   ],
   "source": [
    "getPandasDfForSearchResultsPage()"
   ]
  },
  {
   "cell_type": "code",
   "execution_count": 604,
   "id": "cc47510e-2fd4-4188-8bbf-fd456bfbfb52",
   "metadata": {},
   "outputs": [
    {
     "data": {
      "text/html": [
       "<div>\n",
       "<style scoped>\n",
       "    .dataframe tbody tr th:only-of-type {\n",
       "        vertical-align: middle;\n",
       "    }\n",
       "\n",
       "    .dataframe tbody tr th {\n",
       "        vertical-align: top;\n",
       "    }\n",
       "\n",
       "    .dataframe thead th {\n",
       "        text-align: right;\n",
       "    }\n",
       "</style>\n",
       "<table border=\"1\" class=\"dataframe\">\n",
       "  <thead>\n",
       "    <tr style=\"text-align: right;\">\n",
       "      <th></th>\n",
       "      <th>Title</th>\n",
       "      <th>Price</th>\n",
       "      <th>URL</th>\n",
       "    </tr>\n",
       "  </thead>\n",
       "  <tbody>\n",
       "    <tr>\n",
       "      <th>0</th>\n",
       "      <td>10.2 Inch iPad with Wi Fi 64GB Space Gray</td>\n",
       "      <td>329.99</td>\n",
       "      <td>https://www.bestbuy.com//site/apple-10-2-inch-...</td>\n",
       "    </tr>\n",
       "    <tr>\n",
       "      <th>1</th>\n",
       "      <td>10.2 Inch iPad with Wi Fi 64GB Silver</td>\n",
       "      <td>329.99</td>\n",
       "      <td>https://www.bestbuy.com//site/apple-10-2-inch-...</td>\n",
       "    </tr>\n",
       "  </tbody>\n",
       "</table>\n",
       "</div>"
      ],
      "text/plain": [
       "                                        Title   Price  \\\n",
       "0  10.2 Inch iPad with Wi Fi 64GB Space Gray   329.99   \n",
       "1      10.2 Inch iPad with Wi Fi 64GB Silver   329.99   \n",
       "\n",
       "                                                 URL  \n",
       "0  https://www.bestbuy.com//site/apple-10-2-inch-...  \n",
       "1  https://www.bestbuy.com//site/apple-10-2-inch-...  "
      ]
     },
     "execution_count": 604,
     "metadata": {},
     "output_type": "execute_result"
    }
   ],
   "source": [
    "df[df.Price <=330]"
   ]
  },
  {
   "cell_type": "code",
   "execution_count": 605,
   "id": "4453407d-b1f3-4821-8dd4-ddca59971898",
   "metadata": {},
   "outputs": [],
   "source": [
    "def sendWhatsAppMessage(dataFrame):\n",
    "    for index,result in dataFrame.iterrows():\n",
    "        # print(result.URL)\n",
    "        time.sleep(5)\n",
    "        wd.get(result.URL)\n",
    "        screenShotFilePath = \"/Users/sriranganathan/Downloads/Screenshots from bot/screenshot_\"+str(index)+\".jpeg\"\n",
    "        \n",
    "        # print(str(screenShotFilePath))\n",
    "        wd.save_screenshot(str(screenShotFilePath))\n",
    "        kit.sendwhats_image(myPhoneNumber, screenShotFilePath, result.URL, 15, tab_close=True)"
   ]
  },
  {
   "cell_type": "code",
   "execution_count": 606,
   "id": "820b9d76-3435-449a-a10d-3203217d01a1",
   "metadata": {},
   "outputs": [
    {
     "name": "stderr",
     "output_type": "stream",
     "text": [
      "/Users/sriranganathan/opt/anaconda3/envs/walmart_web_scraper/lib/python3.9/site-packages/selenium/webdriver/remote/webdriver.py:1030: UserWarning: name used for saved screenshot does not match file type. It should end with a `.png` extension\n",
      "  warnings.warn(\"name used for saved screenshot does not match file \"\n"
     ]
    },
    {
     "ename": "KeyboardInterrupt",
     "evalue": "",
     "output_type": "error",
     "traceback": [
      "\u001b[0;31m---------------------------------------------------------------------------\u001b[0m",
      "\u001b[0;31mKeyboardInterrupt\u001b[0m                         Traceback (most recent call last)",
      "Cell \u001b[0;32mIn[606], line 6\u001b[0m\n\u001b[1;32m      3\u001b[0m time\u001b[38;5;241m.\u001b[39msleep(\u001b[38;5;241m2\u001b[39m)\n\u001b[1;32m      5\u001b[0m \u001b[38;5;28;01mif\u001b[39;00m (\u001b[38;5;129;01mnot\u001b[39;00m dfFinalProcessedResults\u001b[38;5;241m.\u001b[39mempty):\n\u001b[0;32m----> 6\u001b[0m     \u001b[43mkit\u001b[49m\u001b[38;5;241;43m.\u001b[39;49m\u001b[43msendwhatmsg_instantly\u001b[49m\u001b[43m(\u001b[49m\u001b[43mmyPhoneNumber\u001b[49m\u001b[43m,\u001b[49m\u001b[38;5;124;43m\"\u001b[39;49m\u001b[38;5;124;43mAutomated test message\u001b[39;49m\u001b[38;5;124;43m\"\u001b[39;49m\u001b[43m,\u001b[49m\u001b[38;5;241;43m15\u001b[39;49m\u001b[43m,\u001b[49m\u001b[43m \u001b[49m\u001b[43mtab_close\u001b[49m\u001b[38;5;241;43m=\u001b[39;49m\u001b[38;5;28;43;01mTrue\u001b[39;49;00m\u001b[43m)\u001b[49m\n\u001b[1;32m      7\u001b[0m     sendWhatsAppMessage(dfFinalProcessedResults)\n\u001b[1;32m      8\u001b[0m time\u001b[38;5;241m.\u001b[39msleep(\u001b[38;5;241m20\u001b[39m)\n",
      "File \u001b[0;32m~/opt/anaconda3/envs/walmart_web_scraper/lib/python3.9/site-packages/pywhatkit/whats.py:35\u001b[0m, in \u001b[0;36msendwhatmsg_instantly\u001b[0;34m(phone_no, message, wait_time, tab_close, close_time)\u001b[0m\n\u001b[1;32m     33\u001b[0m log\u001b[38;5;241m.\u001b[39mlog_message(_time\u001b[38;5;241m=\u001b[39mtime\u001b[38;5;241m.\u001b[39mlocaltime(), receiver\u001b[38;5;241m=\u001b[39mphone_no, message\u001b[38;5;241m=\u001b[39mmessage)\n\u001b[1;32m     34\u001b[0m \u001b[38;5;28;01mif\u001b[39;00m tab_close:\n\u001b[0;32m---> 35\u001b[0m     \u001b[43mcore\u001b[49m\u001b[38;5;241;43m.\u001b[39;49m\u001b[43mclose_tab\u001b[49m\u001b[43m(\u001b[49m\u001b[43mwait_time\u001b[49m\u001b[38;5;241;43m=\u001b[39;49m\u001b[43mclose_time\u001b[49m\u001b[43m)\u001b[49m\n",
      "File \u001b[0;32m~/opt/anaconda3/envs/walmart_web_scraper/lib/python3.9/site-packages/pywhatkit/core/core.py:25\u001b[0m, in \u001b[0;36mclose_tab\u001b[0;34m(wait_time)\u001b[0m\n\u001b[1;32m     22\u001b[0m \u001b[38;5;28;01mdef\u001b[39;00m \u001b[38;5;21mclose_tab\u001b[39m(wait_time: \u001b[38;5;28mint\u001b[39m \u001b[38;5;241m=\u001b[39m \u001b[38;5;241m2\u001b[39m) \u001b[38;5;241m-\u001b[39m\u001b[38;5;241m>\u001b[39m \u001b[38;5;28;01mNone\u001b[39;00m:\n\u001b[1;32m     23\u001b[0m     \u001b[38;5;124;03m\"\"\"Closes the Currently Opened Browser Tab\"\"\"\u001b[39;00m\n\u001b[0;32m---> 25\u001b[0m     \u001b[43mtime\u001b[49m\u001b[38;5;241;43m.\u001b[39;49m\u001b[43msleep\u001b[49m\u001b[43m(\u001b[49m\u001b[43mwait_time\u001b[49m\u001b[43m)\u001b[49m\n\u001b[1;32m     26\u001b[0m     \u001b[38;5;28;01mif\u001b[39;00m system()\u001b[38;5;241m.\u001b[39mlower() \u001b[38;5;129;01min\u001b[39;00m (\u001b[38;5;124m\"\u001b[39m\u001b[38;5;124mwindows\u001b[39m\u001b[38;5;124m\"\u001b[39m, \u001b[38;5;124m\"\u001b[39m\u001b[38;5;124mlinux\u001b[39m\u001b[38;5;124m\"\u001b[39m):\n\u001b[1;32m     27\u001b[0m         hotkey(\u001b[38;5;124m\"\u001b[39m\u001b[38;5;124mctrl\u001b[39m\u001b[38;5;124m\"\u001b[39m, \u001b[38;5;124m\"\u001b[39m\u001b[38;5;124mw\u001b[39m\u001b[38;5;124m\"\u001b[39m)\n",
      "\u001b[0;31mKeyboardInterrupt\u001b[0m: "
     ]
    }
   ],
   "source": [
    "while (True):\n",
    "    dfFinalProcessedResults = df[df.Price<=330]\n",
    "    time.sleep(2)\n",
    "    \n",
    "    if (not dfFinalProcessedResults.empty):\n",
    "        kit.sendwhatmsg_instantly(myPhoneNumber,\"Automated test message\",15, tab_close=True)\n",
    "        sendWhatsAppMessage(dfFinalProcessedResults)\n",
    "    time.sleep(20)\n",
    "    wd.get(\"https://bestbuy.com\")\n",
    "    searchForiPad()\n",
    "    getPandasDfForSearchResultsPage()"
   ]
  },
  {
   "cell_type": "code",
   "execution_count": null,
   "id": "a288a549-ffeb-4a6c-89de-c417a9900fa0",
   "metadata": {},
   "outputs": [],
   "source": []
  }
 ],
 "metadata": {
  "kernelspec": {
   "display_name": "Python 3 (ipykernel)",
   "language": "python",
   "name": "python3"
  },
  "language_info": {
   "codemirror_mode": {
    "name": "ipython",
    "version": 3
   },
   "file_extension": ".py",
   "mimetype": "text/x-python",
   "name": "python",
   "nbconvert_exporter": "python",
   "pygments_lexer": "ipython3",
   "version": "3.9.15"
  }
 },
 "nbformat": 4,
 "nbformat_minor": 5
}
